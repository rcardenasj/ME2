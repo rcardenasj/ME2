{
 "cells": [
  {
   "cell_type": "markdown",
   "id": "ad43e952-4902-4401-b7a3-64a70779f818",
   "metadata": {},
   "source": [
    "<h>Solucion del EC04_01<h>\n",
    "\n",
    "Solucion del ejercicio 1"
   ]
  },
  {
   "cell_type": "code",
   "execution_count": 1,
   "id": "549207d7-5e34-4541-8daf-487530a82c6f",
   "metadata": {},
   "outputs": [
    {
     "data": {
      "text/plain": [
       "R1 = 0.5000\n"
      ]
     },
     "metadata": {},
     "output_type": "display_data"
    },
    {
     "data": {
      "text/plain": [
       "X1 = 0.7407\n"
      ]
     },
     "metadata": {},
     "output_type": "display_data"
    },
    {
     "data": {
      "text/plain": [
       "R2 = 0.5884\n"
      ]
     },
     "metadata": {},
     "output_type": "display_data"
    },
    {
     "data": {
      "text/plain": [
       "X2 = 1.4814\n"
      ]
     },
     "metadata": {},
     "output_type": "display_data"
    },
    {
     "data": {
      "text/plain": [
       "Xm = 33.127\n"
      ]
     },
     "metadata": {},
     "output_type": "display_data"
    },
    {
     "data": {
      "text/plain": [
       "Pr = 615.62\n"
      ]
     },
     "metadata": {},
     "output_type": "display_data"
    },
    {
     "data": {
      "text/plain": [
       "Zth =  0.4783 + 0.7316i\n"
      ]
     },
     "metadata": {},
     "output_type": "display_data"
    },
    {
     "data": {
      "text/plain": [
       "Vth =  248.4241 +   3.6676i\n"
      ]
     },
     "metadata": {},
     "output_type": "display_data"
    },
    {
     "data": {
      "text/plain": [
       "smax = 0.2599\n"
      ]
     },
     "metadata": {},
     "output_type": "display_data"
    },
    {
     "data": {
      "text/plain": [
       "wsyn = 104.72\n"
      ]
     },
     "metadata": {},
     "output_type": "display_data"
    },
    {
     "data": {
      "text/plain": [
       "tmax = 322.42\n"
      ]
     },
     "metadata": {},
     "output_type": "display_data"
    },
    {
     "data": {
      "text/plain": [
       "Zeq =  11.9158 +  7.0112i\n"
      ]
     },
     "metadata": {},
     "output_type": "display_data"
    },
    {
     "data": {
      "text/plain": [
       "I = 18.374\n"
      ]
     },
     "metadata": {},
     "output_type": "display_data"
    },
    {
     "data": {
      "text/plain": [
       "pf = 0.8619\n"
      ]
     },
     "metadata": {},
     "output_type": "display_data"
    },
    {
     "data": {
      "text/plain": [
       "n = 0.8751\n"
      ]
     },
     "metadata": {},
     "output_type": "display_data"
    }
   ],
   "source": [
    "V=220;R1=0.5;p=6;f=50;\n",
    "Vo=440;Io=7.5;Po=700;fo=50;\n",
    "Vc=150;Ic=35;Pc=4e3;fc=50;s=0.04;\n",
    "Zo=Vo/(sqrt(3)*Io);\n",
    "X1_Xm=sqrt(Zo*Zo-R1*R1);\n",
    "Zc=Vc/(sqrt(3)*Ic);\n",
    "R1_R2=Pc/(sqrt(3)*Vc*Ic)*Zc;\n",
    "X1_X2=sqrt(Zc*Zc-R1_R2*R1_R2);\n",
    "R1,X1=X1_X2/3,R2=R1_R2-R1,X2=X1_X2-X1,\n",
    "Xm=X1_Xm-X1,Pr=Po-3*Io*Io*R1\n",
    "Z1=R1+1i*X1;Z2=R2+1i*X2;Zm=1i*Xm;\n",
    "Zth=Z1*Zm/(Z1+Zm),Vth=V/sqrt(3)*Zm/(Z1+Zm),\n",
    "smax=R2/abs(Zth+1i*X2)\n",
    "wsyn=f*120/(p)*2*pi/60\n",
    "tmax=3*abs(Vth/(Zth+1i*X2+R2/smax))^2*(R2/smax)/wsyn\n",
    "Zeq=1/(1/(R2/s+1i*X2)+1/Zm)+Z1\n",
    "I=V/abs(sqrt(3)*Zeq)\n",
    "pf=cos(angle(Zeq))\n",
    "Ild=I*abs(Zm/(Zm+R2/s+1i*X2));\n",
    "n=(3*Ild^2*(1-s)*R2/s)/(Pr+sqrt(3)*V*I*pf)"
   ]
  },
  {
   "cell_type": "code",
   "execution_count": null,
   "id": "ac70d9a3-f448-4c66-acbf-85ce0659c609",
   "metadata": {},
   "outputs": [],
   "source": []
  }
 ],
 "metadata": {
  "kernelspec": {
   "display_name": "Octave (xoctave)",
   "language": "Octave",
   "name": "xoctave"
  },
  "language_info": {
   "codemirror_mode": "octave",
   "file_extension": ".m",
   "mimetype": "text/x-octave",
   "name": "Octave",
   "nbconvert_exporter": "",
   "pygments_lexer": "octave",
   "version": "8.4.0"
  }
 },
 "nbformat": 4,
 "nbformat_minor": 5
}

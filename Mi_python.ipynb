{
 "cells": [
  {
   "cell_type": "markdown",
   "id": "fafbffbc",
   "metadata": {},
   "source": [
    "Este es uno basico"
   ]
  },
  {
   "cell_type": "code",
   "execution_count": 3,
   "id": "9011eb6f",
   "metadata": {},
   "outputs": [
    {
     "name": "stdout",
     "output_type": "stream",
     "text": [
      "La respuesta es: 3\n"
     ]
    }
   ],
   "source": [
    "a=1;\n",
    "b=2;\n",
    "print(f\"La respuesta es: {a+b}\");"
   ]
  }
 ],
 "metadata": {
  "kernelspec": {
   "display_name": "Python 3 (ipykernel)",
   "language": "python",
   "name": "python3"
  },
  "language_info": {
   "codemirror_mode": {
    "name": "ipython",
    "version": 3
   },
   "file_extension": ".py",
   "mimetype": "text/x-python",
   "name": "python",
   "nbconvert_exporter": "python",
   "pygments_lexer": "ipython3",
   "version": "3.12.1"
  }
 },
 "nbformat": 4,
 "nbformat_minor": 5
}

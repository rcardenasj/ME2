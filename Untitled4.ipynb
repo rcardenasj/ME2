{
  "nbformat": 4,
  "nbformat_minor": 0,
  "metadata": {
    "colab": {
      "provenance": [],
      "authorship_tag": "ABX9TyNkJ0aWFm/FYKDBYVcIEKQg",
      "include_colab_link": true
    },
    "kernelspec": {
      "name": "python3",
      "display_name": "Python 3"
    },
    "language_info": {
      "name": "python"
    }
  },
  "cells": [
    {
      "cell_type": "markdown",
      "metadata": {
        "id": "view-in-github",
        "colab_type": "text"
      },
      "source": [
        "<a href=\"https://colab.research.google.com/github/rcardenasj/ME2/blob/main/Untitled4.ipynb\" target=\"_parent\"><img src=\"https://colab.research.google.com/assets/colab-badge.svg\" alt=\"Open In Colab\"/></a>"
      ]
    },
    {
      "cell_type": "code",
      "execution_count": null,
      "metadata": {
        "colab": {
          "base_uri": "https://localhost:8080/"
        },
        "id": "zJKhFjuub_Tr",
        "outputId": "822ef515-e450-47da-eff0-daa3078b2e93"
      },
      "outputs": [
        {
          "output_type": "stream",
          "name": "stdout",
          "text": [
            "sub 1 dentro de fun 1\n",
            "sub 1 dentro de fun 1\n",
            "fun 1\n",
            "fun 2\n",
            "Final\n"
          ]
        }
      ],
      "source": [
        "def subfuncion1():\n",
        "    subsubfuncion1()\n",
        "    subsubfuncion2()\n",
        "    print(\"fun 1\")\n",
        "def subfuncion2():\n",
        "    print(\"fun 2\")\n",
        "def subsubfuncion1():\n",
        "    print(\"sub 1 dentro de fun 1\")\n",
        "def subsubfuncion2():\n",
        "    print(\"sub 1 dentro de fun 1\")\n",
        "# Principal\n",
        "subfuncion1()\n",
        "subfuncion2()\n",
        "print(\"Final\")\n"
      ]
    }
  ]
}
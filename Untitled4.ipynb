{
  "nbformat": 4,
  "nbformat_minor": 0,
  "metadata": {
    "colab": {
      "provenance": [],
      "authorship_tag": "ABX9TyNrZyznmlrSCKRYvdUiwExw",
      "include_colab_link": true
    },
    "kernelspec": {
      "name": "python3",
      "display_name": "Python 3"
    },
    "language_info": {
      "name": "python"
    }
  },
  "cells": [
    {
      "cell_type": "markdown",
      "metadata": {
        "id": "view-in-github",
        "colab_type": "text"
      },
      "source": [
        "<a href=\"https://colab.research.google.com/github/rcardenasj/ME2/blob/main/Untitled4.ipynb\" target=\"_parent\"><img src=\"https://colab.research.google.com/assets/colab-badge.svg\" alt=\"Open In Colab\"/></a>"
      ]
    },
    {
      "cell_type": "code",
      "execution_count": 2,
      "metadata": {
        "colab": {
          "base_uri": "https://localhost:8080/"
        },
        "id": "zJKhFjuub_Tr",
        "outputId": "4ef97550-3aa6-431f-dce4-ff31515ef339"
      },
      "outputs": [
        {
          "output_type": "stream",
          "name": "stdout",
          "text": [
            "sub 1 dentro de fun 1\n",
            "sub 1 dentro de fun 1\n",
            "funciones 1\n",
            "funciones 2\n",
            "Final de funciones\n"
          ]
        }
      ],
      "source": [
        "def subfuncion1():\n",
        "    subsubfuncion1()\n",
        "    subsubfuncion2()\n",
        "    print(\"funciones 1\")\n",
        "def subfuncion2():\n",
        "    print(\"funciones 2\")\n",
        "def subsubfuncion1():\n",
        "    print(\"sub 1 dentro de fun 1\")\n",
        "def subsubfuncion2():\n",
        "    print(\"sub 1 dentro de fun 1\")\n",
        "# Principal\n",
        "subfuncion1()\n",
        "subfuncion2()\n",
        "print(\"Final de funciones\")\n"
      ]
    }
  ]
}
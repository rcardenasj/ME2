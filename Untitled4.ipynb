{
  "cells": [
    {
      "cell_type": "markdown",
      "metadata": {
        "colab_type": "text",
        "id": "view-in-github"
      },
      "source": [
        "<a href=\"https://colab.research.google.com/github/rcardenasj/ME2/blob/main/Untitled4.ipynb\" target=\"_parent\"><img src=\"https://colab.research.google.com/assets/colab-badge.svg\" alt=\"Open In Colab\"/></a>"
      ]
    },
    {
      "cell_type": "code",
      "execution_count": 1,
      "metadata": {
        "colab": {
          "base_uri": "https://localhost:8080/"
        },
        "id": "zJKhFjuub_Tr",
        "outputId": "4ef97550-3aa6-431f-dce4-ff31515ef339"
      },
      "outputs": [
        {
          "name": "stdout",
          "output_type": "stream",
          "text": [
            "sub 1 dentro de fun 1\n",
            "sub 1 dentro de fun 1\n",
            "funcionalidades 1\n",
            "funcionalidades 2\n",
            "Final de funcionalidades\n"
          ]
        }
      ],
      "source": [
        "def subfuncion1():\n",
        "    subsubfuncion1()\n",
        "    subsubfuncion2()\n",
        "    print(\"funcionalidades 1\")\n",
        "def subfuncion2():\n",
        "    print(\"funcionalidades 2\")\n",
        "def subsubfuncion1():\n",
        "    print(\"sub 1 dentro de fun 1\")\n",
        "def subsubfuncion2():\n",
        "    print(\"sub 1 dentro de fun 1\")\n",
        "# Principal\n",
        "subfuncion1()\n",
        "subfuncion2()\n",
        "print(\"Final de funcionalidades\")\n"
      ]
    }
  ],
  "metadata": {
    "colab": {
      "authorship_tag": "ABX9TyNrZyznmlrSCKRYvdUiwExw",
      "include_colab_link": true,
      "provenance": []
    },
    "kernelspec": {
      "display_name": "Python 3 (ipykernel)",
      "language": "python",
      "name": "python3"
    },
    "language_info": {
      "codemirror_mode": {
        "name": "ipython",
        "version": 3
      },
      "file_extension": ".py",
      "mimetype": "text/x-python",
      "name": "python",
      "nbconvert_exporter": "python",
      "pygments_lexer": "ipython3",
      "version": "3.12.1"
    }
  },
  "nbformat": 4,
  "nbformat_minor": 0
}

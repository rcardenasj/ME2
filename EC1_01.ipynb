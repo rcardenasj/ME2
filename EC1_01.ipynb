{
 "cells": [
  {
   "cell_type": "markdown",
   "id": "3a1d9999",
   "metadata": {},
   "source": [
    "Nuevo"
   ]
  },
  {
   "cell_type": "code",
   "execution_count": null,
   "id": "c4e72b72",
   "metadata": {},
   "outputs": [],
   "source": [
    "m=1;\n",
    "print(m)"
   ]
  }
 ],
 "metadata": {
  "language_info": {
   "name": "python"
  }
 },
 "nbformat": 4,
 "nbformat_minor": 5
}
